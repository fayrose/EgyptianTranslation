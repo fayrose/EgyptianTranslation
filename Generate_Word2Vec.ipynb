{
 "metadata": {
  "language_info": {
   "codemirror_mode": {
    "name": "ipython",
    "version": 3
   },
   "file_extension": ".py",
   "mimetype": "text/x-python",
   "name": "python",
   "nbconvert_exporter": "python",
   "pygments_lexer": "ipython3",
   "version": "3.7.8"
  },
  "orig_nbformat": 4,
  "kernelspec": {
   "name": "python3",
   "display_name": "Python 3.7.8 64-bit"
  },
  "interpreter": {
   "hash": "57baa5815c940fdaff4d14510622de9616cae602444507ba5d0b6727c008cbd6"
  }
 },
 "nbformat": 4,
 "nbformat_minor": 2,
 "cells": [
  {
   "cell_type": "code",
   "execution_count": 1,
   "source": [
    "try:\r\n",
    "    from gensim.models import Word2Vec\r\n",
    "except:\r\n",
    "    !py -m pip install --upgrade gensim\r\n",
    "    from gensim.models import Word2Vec"
   ],
   "outputs": [
    {
     "output_type": "stream",
     "name": "stderr",
     "text": [
      "C:\\Users\\lfr2l\\AppData\\Roaming\\Python\\Python37\\site-packages\\gensim\\similarities\\__init__.py:15: UserWarning: The gensim.similarities.levenshtein submodule is disabled, because the optional Levenshtein package <https://pypi.org/project/python-Levenshtein/> is unavailable. Install Levenhstein (e.g. `pip install python-Levenshtein`) to suppress this warning.\n",
      "  warnings.warn(msg)\n"
     ]
    }
   ],
   "metadata": {}
  },
  {
   "cell_type": "code",
   "execution_count": 2,
   "source": [
    "egy_path = \"./compiled_corpora/aligned_train.egy.csv\"\r\n",
    "eng_path = \"./compiled_corpora/aligned_train.eng.csv\"\r\n",
    "monolingual_path = './compiled_corpora/egyptian_monolingual.csv'\r\n",
    "\r\n",
    "with open(egy_path, 'r') as egy_file:\r\n",
    "    egy_sentences = [item.strip('\\n') for item in egy_file.readlines()]\r\n",
    "\r\n",
    "with open(monolingual_path, 'r') as monolingual_file:\r\n",
    "    mono_sentences = [item.strip('\\n') for item in monolingual_file.readlines()]\r\n",
    "\r\n",
    "with open(eng_path, 'r') as eng_file:\r\n",
    "    eng_sentences = [item.strip('\\n') for item in eng_file.readlines()]\r\n"
   ],
   "outputs": [],
   "metadata": {}
  },
  {
   "cell_type": "code",
   "execution_count": 3,
   "source": [
    "model = Word2Vec(sentences=eng_sentences, vector_size=512, window=5, min_count=1, workers=4)\r\n",
    "model.save(\"word2vec/eng.model\")\r\n",
    "\r\n",
    "model = Word2Vec(sentences=egy_sentences, vector_size=512, window=5, min_count=1, workers=4)\r\n",
    "model.save(\"word2vec/egy.model\")\r\n",
    "\r\n",
    "model = Word2Vec(sentences=mono_sentences, vector_size=512, window=5, min_count=1, workers=4)\r\n",
    "model.save(\"word2vec/mono.model\")\r\n",
    "\r\n",
    "model = Word2Vec(sentences=egy_sentences.extend(mono_sentences), vector_size=512, window=5, min_count=1, workers=4)\r\n",
    "model.save(\"word2vec/extended.model\")"
   ],
   "outputs": [],
   "metadata": {}
  }
 ]
}