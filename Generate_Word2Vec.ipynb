{
 "metadata": {
  "language_info": {
   "codemirror_mode": {
    "name": "ipython",
    "version": 3
   },
   "file_extension": ".py",
   "mimetype": "text/x-python",
   "name": "python",
   "nbconvert_exporter": "python",
   "pygments_lexer": "ipython3",
   "version": "3.7.8"
  },
  "orig_nbformat": 4,
  "kernelspec": {
   "name": "python3",
   "display_name": "Python 3.7.8 64-bit"
  },
  "interpreter": {
   "hash": "57baa5815c940fdaff4d14510622de9616cae602444507ba5d0b6727c008cbd6"
  }
 },
 "nbformat": 4,
 "nbformat_minor": 2,
 "cells": [
  {
   "cell_type": "code",
   "execution_count": 10,
   "source": [
    "try:\r\n",
    "    from gensim.models import Word2Vec\r\n",
    "except:\r\n",
    "    !py -m pip install --upgrade gensim\r\n",
    "    from gensim.models import Word2Vec"
   ],
   "outputs": [],
   "metadata": {}
  },
  {
   "cell_type": "code",
   "execution_count": 11,
   "source": [
    "egy_path = \"./compiled_corpora/aligned_train.egy.csv\"\r\n",
    "eng_path = \"./compiled_corpora/aligned_train.eng.csv\"\r\n",
    "monolingual_path = './compiled_corpora/egyptian_monolingual.csv'\r\n",
    "\r\n",
    "with open(egy_path, 'r') as egy_file:\r\n",
    "    egy_sentences = [item.strip('\\n').split() for item in egy_file.readlines()]\r\n",
    "\r\n",
    "with open(monolingual_path, 'r') as monolingual_file:\r\n",
    "    mono_sentences = [item.strip('\\n').split() for item in monolingual_file.readlines()]\r\n",
    "\r\n",
    "with open(eng_path, 'r') as eng_file:\r\n",
    "    eng_sentences = [item.strip('\\n').split() for item in eng_file.readlines()]\r\n",
    "\r\n",
    "\r\n",
    "print(len(egy_sentences))\r\n",
    "\r\n",
    "print(len(eng_sentences))\r\n",
    "\r\n",
    "print(len(mono_sentences))"
   ],
   "outputs": [
    {
     "output_type": "stream",
     "name": "stdout",
     "text": [
      "10347\n",
      "10347\n",
      "50457\n"
     ]
    }
   ],
   "metadata": {}
  },
  {
   "cell_type": "code",
   "execution_count": 12,
   "source": [
    "combined_sentences = egy_sentences + mono_sentences\r\n",
    "print(len(combined_sentences))"
   ],
   "outputs": [
    {
     "output_type": "stream",
     "name": "stdout",
     "text": [
      "60804\n"
     ]
    }
   ],
   "metadata": {}
  },
  {
   "cell_type": "code",
   "execution_count": 14,
   "source": [
    "model = Word2Vec(sentences=eng_sentences, vector_size=512, window=5, min_count=1, workers=4)\r\n",
    "model.wv.save_word2vec_format('word2vec/eng.model.txt', binary=False)\r\n",
    "\r\n",
    "model = Word2Vec(sentences=egy_sentences, vector_size=512, window=5, min_count=1, workers=4)\r\n",
    "model.wv.save_word2vec_format('word2vec/egy.model.txt', binary=False)\r\n",
    "\r\n",
    "model = Word2Vec(sentences=mono_sentences, vector_size=512, window=5, min_count=1, workers=4)\r\n",
    "model.wv.save_word2vec_format('word2vec/mono.model.txt', binary=False)\r\n",
    "\r\n",
    "model = Word2Vec(sentences=combined_sentences, vector_size=512, window=5, min_count=1, workers=4)\r\n",
    "model.wv.save_word2vec_format('word2vec/extended.model.txt', binary=False)"
   ],
   "outputs": [],
   "metadata": {}
  }
 ]
}