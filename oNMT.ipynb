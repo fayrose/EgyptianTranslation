{
 "metadata": {
  "language_info": {
   "codemirror_mode": {
    "name": "ipython",
    "version": 3
   },
   "file_extension": ".py",
   "mimetype": "text/x-python",
   "name": "python",
   "nbconvert_exporter": "python",
   "pygments_lexer": "ipython3",
   "version": "3.9.0"
  },
  "orig_nbformat": 2,
  "kernelspec": {
   "name": "python390jvsc74a57bd083355747db63703de1c2ac4de6fccd06216fd8d2c661a8e64bf54486265eb7b3",
   "display_name": "Python 3.9.0 64-bit"
  },
  "metadata": {
   "interpreter": {
    "hash": "83355747db63703de1c2ac4de6fccd06216fd8d2c661a8e64bf54486265eb7b3"
   }
  }
 },
 "nbformat": 4,
 "nbformat_minor": 2,
 "cells": [
  {
   "cell_type": "code",
   "execution_count": 81,
   "metadata": {},
   "outputs": [
    {
     "output_type": "stream",
     "name": "stdout",
     "text": [
      "Requirement already satisfied: OpenNMT-py in c:\\users\\larosenb\\appdata\\local\\programs\\python\\python39\\lib\\site-packages (1.2.0)\n",
      "Requirement already satisfied: six in c:\\users\\larosenb\\appdata\\local\\programs\\python\\python39\\lib\\site-packages (from OpenNMT-py) (1.15.0)\n",
      "Requirement already satisfied: tqdm in c:\\users\\larosenb\\appdata\\local\\programs\\python\\python39\\lib\\site-packages (from OpenNMT-py) (4.61.0)\n",
      "Requirement already satisfied: torch>=1.6.0 in c:\\users\\larosenb\\appdata\\local\\programs\\python\\python39\\lib\\site-packages (from OpenNMT-py) (1.8.1)\n",
      "Requirement already satisfied: tensorboard>=1.14 in c:\\users\\larosenb\\appdata\\local\\programs\\python\\python39\\lib\\site-packages (from OpenNMT-py) (2.5.0)\n",
      "Requirement already satisfied: pyyaml in c:\\users\\larosenb\\appdata\\local\\programs\\python\\python39\\lib\\site-packages (from OpenNMT-py) (5.4.1)\n",
      "Requirement already satisfied: torchtext==0.4.0 in c:\\users\\larosenb\\appdata\\local\\programs\\python\\python39\\lib\\site-packages (from OpenNMT-py) (0.4.0)\n",
      "Requirement already satisfied: flask in c:\\users\\larosenb\\appdata\\local\\programs\\python\\python39\\lib\\site-packages (from OpenNMT-py) (1.1.2)\n",
      "Requirement already satisfied: configargparse in c:\\users\\larosenb\\appdata\\local\\programs\\python\\python39\\lib\\site-packages (from OpenNMT-py) (1.2.3)\n",
      "Requirement already satisfied: waitress in c:\\users\\larosenb\\appdata\\local\\programs\\python\\python39\\lib\\site-packages (from OpenNMT-py) (2.0.0)\n",
      "Requirement already satisfied: future in c:\\users\\larosenb\\appdata\\local\\programs\\python\\python39\\lib\\site-packages (from OpenNMT-py) (0.18.2)\n",
      "Requirement already satisfied: requests in c:\\users\\larosenb\\appdata\\local\\programs\\python\\python39\\lib\\site-packages (from torchtext==0.4.0->OpenNMT-py) (2.25.1)\n",
      "Requirement already satisfied: numpy in c:\\users\\larosenb\\appdata\\local\\programs\\python\\python39\\lib\\site-packages (from torchtext==0.4.0->OpenNMT-py) (1.20.3)\n",
      "Requirement already satisfied: tensorboard-data-server<0.7.0,>=0.6.0 in c:\\users\\larosenb\\appdata\\local\\programs\\python\\python39\\lib\\site-packages (from tensorboard>=1.14->OpenNMT-py) (0.6.1)\n",
      "Requirement already satisfied: werkzeug>=0.11.15 in c:\\users\\larosenb\\appdata\\local\\programs\\python\\python39\\lib\\site-packages (from tensorboard>=1.14->OpenNMT-py) (1.0.1)\n",
      "Requirement already satisfied: grpcio>=1.24.3 in c:\\users\\larosenb\\appdata\\local\\programs\\python\\python39\\lib\\site-packages (from tensorboard>=1.14->OpenNMT-py) (1.38.0)\n",
      "Requirement already satisfied: protobuf>=3.6.0 in c:\\users\\larosenb\\appdata\\local\\programs\\python\\python39\\lib\\site-packages (from tensorboard>=1.14->OpenNMT-py) (3.17.2)\n",
      "Requirement already satisfied: setuptools>=41.0.0 in c:\\users\\larosenb\\appdata\\local\\programs\\python\\python39\\lib\\site-packages (from tensorboard>=1.14->OpenNMT-py) (49.2.1)\n",
      "Requirement already satisfied: tensorboard-plugin-wit>=1.6.0 in c:\\users\\larosenb\\appdata\\local\\programs\\python\\python39\\lib\\site-packages (from tensorboard>=1.14->OpenNMT-py) (1.8.0)\n",
      "Requirement already satisfied: google-auth<2,>=1.6.3 in c:\\users\\larosenb\\appdata\\local\\programs\\python\\python39\\lib\\site-packages (from tensorboard>=1.14->OpenNMT-py) (1.30.1)\n",
      "Requirement already satisfied: google-auth-oauthlib<0.5,>=0.4.1 in c:\\users\\larosenb\\appdata\\local\\programs\\python\\python39\\lib\\site-packages (from tensorboard>=1.14->OpenNMT-py) (0.4.4)\n",
      "Requirement already satisfied: markdown>=2.6.8 in c:\\users\\larosenb\\appdata\\local\\programs\\python\\python39\\lib\\site-packages (from tensorboard>=1.14->OpenNMT-py) (3.3.4)\n",
      "Requirement already satisfied: wheel>=0.26 in c:\\users\\larosenb\\appdata\\local\\programs\\python\\python39\\lib\\site-packages (from tensorboard>=1.14->OpenNMT-py) (0.36.2)\n",
      "Requirement already satisfied: absl-py>=0.4 in c:\\users\\larosenb\\appdata\\local\\programs\\python\\python39\\lib\\site-packages (from tensorboard>=1.14->OpenNMT-py) (0.12.0)\n",
      "Requirement already satisfied: pyasn1-modules>=0.2.1 in c:\\users\\larosenb\\appdata\\local\\programs\\python\\python39\\lib\\site-packages (from google-auth<2,>=1.6.3->tensorboard>=1.14->OpenNMT-py) (0.2.8)\n",
      "Requirement already satisfied: rsa<5,>=3.1.4 in c:\\users\\larosenb\\appdata\\local\\programs\\python\\python39\\lib\\site-packages (from google-auth<2,>=1.6.3->tensorboard>=1.14->OpenNMT-py) (4.7.2)\n",
      "Requirement already satisfied: cachetools<5.0,>=2.0.0 in c:\\users\\larosenb\\appdata\\local\\programs\\python\\python39\\lib\\site-packages (from google-auth<2,>=1.6.3->tensorboard>=1.14->OpenNMT-py) (4.2.2)\n",
      "Requirement already satisfied: requests-oauthlib>=0.7.0 in c:\\users\\larosenb\\appdata\\local\\programs\\python\\python39\\lib\\site-packages (from google-auth-oauthlib<0.5,>=0.4.1->tensorboard>=1.14->OpenNMT-py) (1.3.0)\n",
      "Requirement already satisfied: pyasn1<0.5.0,>=0.4.6 in c:\\users\\larosenb\\appdata\\local\\programs\\python\\python39\\lib\\site-packages (from pyasn1-modules>=0.2.1->google-auth<2,>=1.6.3->tensorboard>=1.14->OpenNMT-py) (0.4.8)\n",
      "Requirement already satisfied: chardet<5,>=3.0.2 in c:\\users\\larosenb\\appdata\\local\\programs\\python\\python39\\lib\\site-packages (from requests->torchtext==0.4.0->OpenNMT-py) (4.0.0)\n",
      "Requirement already satisfied: certifi>=2017.4.17 in c:\\users\\larosenb\\appdata\\local\\programs\\python\\python39\\lib\\site-packages (from requests->torchtext==0.4.0->OpenNMT-py) (2020.12.5)\n",
      "Requirement already satisfied: idna<3,>=2.5 in c:\\users\\larosenb\\appdata\\local\\programs\\python\\python39\\lib\\site-packages (from requests->torchtext==0.4.0->OpenNMT-py) (2.10)\n",
      "Requirement already satisfied: urllib3<1.27,>=1.21.1 in c:\\users\\larosenb\\appdata\\local\\programs\\python\\python39\\lib\\site-packages (from requests->torchtext==0.4.0->OpenNMT-py) (1.26.2)\n",
      "Requirement already satisfied: oauthlib>=3.0.0 in c:\\users\\larosenb\\appdata\\local\\programs\\python\\python39\\lib\\site-packages (from requests-oauthlib>=0.7.0->google-auth-oauthlib<0.5,>=0.4.1->tensorboard>=1.14->OpenNMT-py) (3.1.1)\n",
      "Requirement already satisfied: typing-extensions in c:\\users\\larosenb\\appdata\\local\\programs\\python\\python39\\lib\\site-packages (from torch>=1.6.0->OpenNMT-py) (3.10.0.0)\n",
      "Requirement already satisfied: Jinja2>=2.10.1 in c:\\users\\larosenb\\appdata\\local\\programs\\python\\python39\\lib\\site-packages (from flask->OpenNMT-py) (2.11.2)\n",
      "Requirement already satisfied: click>=5.1 in c:\\users\\larosenb\\appdata\\local\\programs\\python\\python39\\lib\\site-packages (from flask->OpenNMT-py) (7.1.2)\n",
      "Requirement already satisfied: itsdangerous>=0.24 in c:\\users\\larosenb\\appdata\\local\\programs\\python\\python39\\lib\\site-packages (from flask->OpenNMT-py) (1.1.0)\n",
      "Requirement already satisfied: MarkupSafe>=0.23 in c:\\users\\larosenb\\appdata\\local\\programs\\python\\python39\\lib\\site-packages (from Jinja2>=2.10.1->flask->OpenNMT-py) (1.1.1)\n"
     ]
    }
   ],
   "source": [
    "!pip install OpenNMT-py"
   ]
  },
  {
   "cell_type": "code",
   "execution_count": 82,
   "metadata": {},
   "outputs": [
    {
     "output_type": "stream",
     "name": "stderr",
     "text": [
      "[2021-06-02 18:45:38,990 INFO] Extracting features...\n[2021-06-02 18:45:39,135 INFO]  * number of source features: 0.\n[2021-06-02 18:45:39,135 INFO]  * number of target features: 0.\n[2021-06-02 18:45:39,135 INFO] Building `Fields` object...\n[2021-06-02 18:45:39,135 INFO] Building & saving training data...\n[2021-06-02 18:45:39,136 WARNING] Shards for corpus train already exist, won't be overwritten, pass the `-overwrite` option if you want to.\n[2021-06-02 18:45:39,136 INFO] Building & saving validation data...\n[2021-06-02 18:45:39,136 WARNING] Shards for corpus valid already exist, won't be overwritten, pass the `-overwrite` option if you want to.\n"
     ]
    }
   ],
   "source": [
    "!onmt_preprocess --train_src ./compiled_corpora/aligned_train.egy.csv --train_tgt ./compiled_corpora/aligned_train.eng.csv --valid_src ./compiled_corpora/aligned_val.egy.csv --valid_tgt ./compiled_corpora/aligned_val.eng.csv --save_data ./onmt-files/"
   ]
  },
  {
   "cell_type": "code",
   "execution_count": 84,
   "metadata": {},
   "outputs": [
    {
     "output_type": "stream",
     "name": "stderr",
     "text": [
      "usage: onmt_train [-h] [-config CONFIG] [-save_config SAVE_CONFIG]\n",
      "                  [--src_word_vec_size SRC_WORD_VEC_SIZE]\n",
      "                  [--tgt_word_vec_size TGT_WORD_VEC_SIZE]\n",
      "                  [--word_vec_size WORD_VEC_SIZE] [--share_decoder_embeddings]\n",
      "                  [--share_embeddings] [--position_encoding]\n",
      "                  [--feat_merge {concat,sum,mlp}]\n",
      "                  [--feat_vec_size FEAT_VEC_SIZE]\n",
      "                  [--feat_vec_exponent FEAT_VEC_EXPONENT]\n",
      "                  [--model_type {text,img,audio,vec}]\n",
      "                  [--model_dtype {fp32,fp16}]\n",
      "                  [--encoder_type {rnn,brnn,ggnn,mean,transformer,cnn}]\n",
      "                  [--decoder_type {rnn,transformer,cnn}] [--layers LAYERS]\n",
      "                  [--enc_layers ENC_LAYERS] [--dec_layers DEC_LAYERS]\n",
      "                  [--rnn_size RNN_SIZE] [--enc_rnn_size ENC_RNN_SIZE]\n",
      "                  [--dec_rnn_size DEC_RNN_SIZE]\n",
      "                  [--audio_enc_pooling AUDIO_ENC_POOLING]\n",
      "                  [--cnn_kernel_width CNN_KERNEL_WIDTH]\n",
      "                  [--input_feed INPUT_FEED] [--bridge]\n",
      "                  [--rnn_type {LSTM,GRU,SRU}] [--brnn]\n",
      "                  [--context_gate {source,target,both}]\n",
      "                  [--bridge_extra_node BRIDGE_EXTRA_NODE]\n",
      "                  [--bidir_edges BIDIR_EDGES] [--state_dim STATE_DIM]\n",
      "                  [--n_edge_types N_EDGE_TYPES] [--n_node N_NODE]\n",
      "                  [--n_steps N_STEPS] [--src_vocab SRC_VOCAB]\n",
      "                  [--global_attention {dot,general,mlp,none}]\n",
      "                  [--global_attention_function {softmax,sparsemax}]\n",
      "                  [--self_attn_type SELF_ATTN_TYPE]\n",
      "                  [--max_relative_positions MAX_RELATIVE_POSITIONS]\n",
      "                  [--heads HEADS] [--transformer_ff TRANSFORMER_FF]\n",
      "                  [--aan_useffn] [--lambda_align LAMBDA_ALIGN]\n",
      "                  [--alignment_layer ALIGNMENT_LAYER]\n",
      "                  [--alignment_heads ALIGNMENT_HEADS]\n",
      "                  [--full_context_alignment] [--copy_attn]\n",
      "                  [--copy_attn_type {dot,general,mlp,none}]\n",
      "                  [--generator_function {softmax,sparsemax}]\n",
      "                  [--copy_attn_force] [--reuse_copy_attn]\n",
      "                  [--copy_loss_by_seqlength] [--coverage_attn]\n",
      "                  [--lambda_coverage LAMBDA_COVERAGE]\n",
      "                  [--loss_scale LOSS_SCALE] [--apex_opt_level {O0,O1,O2,O3}]\n",
      "                  --data DATA [--data_ids DATA_IDS [DATA_IDS ...]]\n",
      "                  [--data_weights DATA_WEIGHTS [DATA_WEIGHTS ...]]\n",
      "                  [--data_to_noise DATA_TO_NOISE [DATA_TO_NOISE ...]]\n",
      "                  [--save_model SAVE_MODEL]\n",
      "                  [--save_checkpoint_steps SAVE_CHECKPOINT_STEPS]\n",
      "                  [--keep_checkpoint KEEP_CHECKPOINT] [--gpuid [GPUID ...]]\n",
      "                  [--gpu_ranks [GPU_RANKS ...]] [--world_size WORLD_SIZE]\n",
      "                  [--gpu_backend GPU_BACKEND]\n",
      "                  [--gpu_verbose_level GPU_VERBOSE_LEVEL]\n",
      "                  [--master_ip MASTER_IP] [--master_port MASTER_PORT]\n",
      "                  [--queue_size QUEUE_SIZE] [--seed SEED]\n",
      "                  [--param_init PARAM_INIT] [--param_init_glorot]\n",
      "                  [--train_from TRAIN_FROM]\n",
      "                  [--reset_optim {none,all,states,keep_states}]\n",
      "                  [--pre_word_vecs_enc PRE_WORD_VECS_ENC]\n",
      "                  [--pre_word_vecs_dec PRE_WORD_VECS_DEC]\n",
      "                  [--fix_word_vecs_enc] [--fix_word_vecs_dec]\n",
      "                  [--batch_size BATCH_SIZE]\n",
      "                  [--batch_size_multiple BATCH_SIZE_MULTIPLE]\n",
      "                  [--batch_type {sents,tokens}] [--pool_factor POOL_FACTOR]\n",
      "                  [--normalization {sents,tokens}]\n",
      "                  [--accum_count ACCUM_COUNT [ACCUM_COUNT ...]]\n",
      "                  [--accum_steps ACCUM_STEPS [ACCUM_STEPS ...]]\n",
      "                  [--valid_steps VALID_STEPS]\n",
      "                  [--valid_batch_size VALID_BATCH_SIZE]\n",
      "                  [--max_generator_batches MAX_GENERATOR_BATCHES]\n",
      "                  [--train_steps TRAIN_STEPS] [--single_pass]\n",
      "                  [--epochs EPOCHS] [--early_stopping EARLY_STOPPING]\n",
      "                  [--early_stopping_criteria [EARLY_STOPPING_CRITERIA ...]]\n",
      "                  [--optim {sgd,adagrad,adadelta,adam,sparseadam,adafactor,fusedadam}]\n",
      "                  [--adagrad_accumulator_init ADAGRAD_ACCUMULATOR_INIT]\n",
      "                  [--max_grad_norm MAX_GRAD_NORM]\n",
      "                  [--dropout DROPOUT [DROPOUT ...]]\n",
      "                  [--attention_dropout ATTENTION_DROPOUT [ATTENTION_DROPOUT ...]]\n",
      "                  [--dropout_steps DROPOUT_STEPS [DROPOUT_STEPS ...]]\n",
      "                  [--truncated_decoder TRUNCATED_DECODER]\n",
      "                  [--adam_beta1 ADAM_BETA1] [--adam_beta2 ADAM_BETA2]\n",
      "                  [--label_smoothing LABEL_SMOOTHING]\n",
      "                  [--average_decay AVERAGE_DECAY]\n",
      "                  [--average_every AVERAGE_EVERY]\n",
      "                  [--src_noise {sen_shuffling,infilling,mask} [{sen_shuffling,infilling,mask} ...]]\n",
      "                  [--src_noise_prob SRC_NOISE_PROB [SRC_NOISE_PROB ...]]\n",
      "                  [--learning_rate LEARNING_RATE]\n",
      "                  [--learning_rate_decay LEARNING_RATE_DECAY]\n",
      "                  [--start_decay_steps START_DECAY_STEPS]\n",
      "                  [--decay_steps DECAY_STEPS]\n",
      "                  [--decay_method {noam,noamwd,rsqrt,none}]\n",
      "                  [--warmup_steps WARMUP_STEPS] [--report_every REPORT_EVERY]\n",
      "                  [--log_file LOG_FILE]\n",
      "                  [--log_file_level {CRITICAL,ERROR,WARNING,INFO,DEBUG,NOTSET,50,40,30,20,10,0}]\n",
      "                  [--exp_host EXP_HOST] [--exp EXP] [--tensorboard]\n",
      "                  [--tensorboard_log_dir TENSORBOARD_LOG_DIR]\n",
      "                  [--sample_rate SAMPLE_RATE] [--window_size WINDOW_SIZE]\n",
      "                  [--image_channel_size {3,1}]\n",
      "onmt_train: error: unrecognized arguments: --verbose\n"
     ]
    }
   ],
   "source": [
    "!onmt_train --data onmt-files/ --save_model onmt-files \\\n",
    "        --layers 6 --rnn_size 512 --word_vec_size 512 --transformer_ff 2048 --heads 8  \\\n",
    "        --encoder_type transformer --decoder_type transformer --position_encoding \\\n",
    "        --train_steps 100000  --max_generator_batches 2 --dropout 0.1 \\\n",
    "        --batch_size 4096 --batch_type tokens --normalization tokens  --accum_count 2 \\\n",
    "        --optim adam --adam_beta2 0.998 --decay_method noam --warmup_steps 8000 --learning_rate 2 \\\n",
    "        --max_grad_norm 0 --param_init 0  --param_init_glorot \\\n",
    "        --label_smoothing 0.1 --valid_steps 1000 --save_checkpoint_steps 1000 \\\n",
    "        --world_size 1"
   ]
  },
  {
   "cell_type": "code",
   "execution_count": null,
   "metadata": {},
   "outputs": [],
   "source": []
  }
 ]
}