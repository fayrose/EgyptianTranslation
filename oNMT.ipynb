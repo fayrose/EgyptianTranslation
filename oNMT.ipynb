{
 "metadata": {
  "language_info": {
   "codemirror_mode": {
    "name": "ipython",
    "version": 3
   },
   "file_extension": ".py",
   "mimetype": "text/x-python",
   "name": "python",
   "nbconvert_exporter": "python",
   "pygments_lexer": "ipython3",
   "version": "3.9.0"
  },
  "orig_nbformat": 2,
  "kernelspec": {
   "name": "python390jvsc74a57bd083355747db63703de1c2ac4de6fccd06216fd8d2c661a8e64bf54486265eb7b3",
   "display_name": "Python 3.9.0 64-bit"
  },
  "metadata": {
   "interpreter": {
    "hash": "83355747db63703de1c2ac4de6fccd06216fd8d2c661a8e64bf54486265eb7b3"
   }
  }
 },
 "nbformat": 4,
 "nbformat_minor": 2,
 "cells": [
  {
   "cell_type": "code",
   "execution_count": 1,
   "metadata": {},
   "outputs": [],
   "source": [
    "try:\n",
    "    import onmt\n",
    "except:\n",
    "    !pip install OpenNMT-py"
   ]
  },
  {
   "cell_type": "code",
   "execution_count": null,
   "metadata": {},
   "outputs": [],
   "source": [
    "string = \"\"\"\n",
    "# egy_eng.yaml\n",
    "\n",
    "## Where the samples will be written\n",
    "save_data: /onmt-files/run/example\n",
    "## Where the vocab(s) will be written\n",
    "src_vocab: /onmt-files/run/example.vocab.egy\n",
    "tgt_vocab: /onmt-files/run/example.vocab.eng\n",
    "# Prevent overwriting existing files in the folder\n",
    "overwrite: True\n",
    "\n",
    "# Corpus opts:\n",
    "data:\n",
    "    corpus_1:\n",
    "        path_src: /compiled_corpora/aligned_train.egy.csv\n",
    "        path_tgt: /compiled_corpora/aligned_train.eng.csv\n",
    "    valid:\n",
    "        path_src: /compiled_corpora/aligned_val.egy.csv\n",
    "        path_tgt: /compiled_corpora/aligned_val.eng.csv\n",
    "\"\"\"\n",
    "with open(\"onmt-files/egy_eng.yaml\", 'w') as yaml_file:\n",
    "  yaml_file.write(string)"
   ]
  },
  {
   "cell_type": "code",
   "execution_count": 2,
   "metadata": {},
   "outputs": [
    {
     "output_type": "stream",
     "name": "stderr",
     "text": [
      "[2021-06-02 19:01:32,051 INFO] Extracting features...\n[2021-06-02 19:01:32,290 INFO]  * number of source features: 0.\n[2021-06-02 19:01:32,290 INFO]  * number of target features: 0.\n[2021-06-02 19:01:32,291 INFO] Building `Fields` object...\n[2021-06-02 19:01:32,291 INFO] Building & saving training data...\n[2021-06-02 19:01:32,292 WARNING] Shards for corpus train already exist, won't be overwritten, pass the `-overwrite` option if you want to.\n[2021-06-02 19:01:32,292 INFO] Building & saving validation data...\n[2021-06-02 19:01:32,292 WARNING] Shards for corpus valid already exist, won't be overwritten, pass the `-overwrite` option if you want to.\n"
     ]
    }
   ],
   "source": [
    "!onmt_build_vocab -config onmt-files/egy_eng.yaml -n_sample 10000"
   ]
  },
  {
   "cell_type": "code",
   "execution_count": null,
   "metadata": {},
   "outputs": [],
   "source": [
    "string = \"\"\"\n",
    "# Vocabulary files that were just created\n",
    "src_vocab: /onmt-files/run/example.vocab.egy\n",
    "tgt_vocab: /onmt-files/run/example.vocab.eng\n",
    "\n",
    "# Train on a single GPU\n",
    "world_size: 1\n",
    "\n",
    "# Where to save the checkpoints\n",
    "save_model: /onmt-files/run/model\n",
    "save_checkpoint_steps: 500\n",
    "train_steps: 1000\n",
    "valid_steps: 500\"\"\"\n",
    "\n",
    "with open(\"onmt-files/egy_eng.yaml\", 'a') as yaml_file:\n",
    "  yaml_file.write(string)"
   ]
  },
  {
   "cell_type": "code",
   "execution_count": 2,
   "metadata": {},
   "outputs": [],
   "source": [
    "!onmt_train --config egy_eng.yaml"
   ]
  },
  {
   "cell_type": "code",
   "execution_count": null,
   "metadata": {},
   "outputs": [],
   "source": [
    "!onmt_translate --model /onmt-files/run/model_step_1000.pt --src /compiled_corpora/aligned_test.egy.csv --output /onmt-files/run/pred_1000.txt --verbose\n"
   ]
  }
 ]
}